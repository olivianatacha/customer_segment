{
 "cells": [
  {
   "cell_type": "markdown",
   "metadata": {},
   "source": [
    "# Creating Customer segments - 105"
   ]
  },
  {
   "cell_type": "markdown",
   "metadata": {},
   "source": [
    " "
   ]
  },
  {
   "cell_type": "markdown",
   "metadata": {},
   "source": [
    "# <span style=\"color:rgb(50,150,50)\">Data Exploration</span> "
   ]
  },
  {
   "cell_type": "markdown",
   "metadata": {},
   "source": [
    "###  Question 1\n",
    "### <span style=\"color:rgb(50,50,50)\">Selecting Samples</span> \n",
    "\n",
    "- #### <span style=\"color:rgb(50,50,50)\">Three separate samples of the data are chosen and their establishment representations are proposed based on the statistical description of the dataset.\n",
    "</span> \n",
    "##### <span style=\"color:rgb(250,50,50)\">Requires Changes</span> \n",
    "\n",
    "\n",
    "##### <span style=\"color:rgb(250,50,50)\">Amendment Required</span> \n",
    "**To meet specification **\n",
    "-State clearly the prediction of each establishment type.\n",
    "\n",
    "-Employ the use of the statistical analysis of each chosen index to justify each prediction of instituion type. For example, it is not logically sound to expect a fashion shop to spend more on the groceries than a restaurant.\n",
    "\n",
    "##### <span style=\"color:rgb(41,121,255)\">Suggestion</span> \n",
    "\n",
    "-The use of the heatmap representation of the percentage values for each of the samples may be a great help in the visualisation.\n",
    "\n",
    "-This [resource](https://en.wikipedia.org/wiki/Heat_map) provides a great introduction the heatmaps.\n",
    "\n",
    "-This [guide](https://plot.ly/python/heatmaps/) should help you realise the implementation on this work."
   ]
  },
  {
   "cell_type": "markdown",
   "metadata": {},
   "source": [
    "###  Question 2\n",
    "### <span style=\"color:rgb(50,50,50)\">Feature Relevance</span> \n",
    "\n",
    "- #### <span style=\"color:rgb(50,50,50)\">A prediction score for the removed feature is accurately reported. Justification is made for whether the removed feature is relevant.\n",
    "\n",
    "</span> \n",
    "##### <span style=\"color:rgb(41,121,255)\">Meets Specification</span>\n",
    "<span style=\"color:rgb(200,150, 80)\">Feedback:</span> Great attempt at identifying the removed feature. The prediction of all features and their corresponding scores have been presented. The selected feature has been marked for approval alongside its prediction score. "
   ]
  },
  {
   "cell_type": "markdown",
   "metadata": {},
   "source": [
    "###  Question 3\n",
    "### <span style=\"color:rgb(50,50,50)\">Feature Distributions</span> \n",
    "\n",
    "- #### <span style=\"color:rgb(50,50,50)\">Student identifies features that are correlated and compares these features to the predicted feature. Student further discusses the data distribution for those features.\n",
    "</span> \n",
    "\n",
    "##### <span style=\"color:rgb(41,121,255)\">Meets Specification</span> \n",
    "<span style=\"color:rgb(200,150, 80)\">Feedback:</span> Excellent. Spot on identification of correlated features. Good comparison with Question 2's suspicion.\n",
    "\n",
    "##### <span style=\"color:rgb(41,121,255)\">Suggestion</span> \n",
    "-The use of the heatmap representation of the relationship between the feaures may help in visualisation.\n",
    "-This [publication](https://www.google.cm/url?sa=t&rct=j&q=&esrc=s&source=web&cd=3&cad=rja&uact=8&ved=0ahUKEwiKntbwkoXTAhXpB8AKHYyBBq0QFggxMAI&url=http%3A%2F%2Fiotc.org%2Fsites%2Fdefault%2Ffiles%2Fdocuments%2Fproceedings%2F2001%2Fwpm%2FIOTC-2001-WPM-05.pdf&usg=AFQjCNFu90Vy5B_wVFtvxpkfYzbXTK_5Ng&bvm=bv.151325232,d.bGs) and [documentation](https://en.wikipedia.org/wiki/Relationships_among_probability_distributions) should be helpful in identifying the distribution of data for a given set of features.\n"
   ]
  },
  {
   "cell_type": "markdown",
   "metadata": {},
   "source": [
    "# <span style=\"color:rgb(50,150,50)\">Data Processing</span> "
   ]
  },
  {
   "cell_type": "markdown",
   "metadata": {},
   "source": [
    "### <span style=\"color:rgb(50,50,50)\">Feature Scaling</span> \n",
    "\n",
    "- #### <span style=\"color:rgb(50,50,50)\">Feature scaling for both the data and the sample data has been properly implemented in code.\n",
    "</span> \n",
    "##### <span style=\"color:rgb(41,121,255)\">Meets Specification</span> \n",
    "<span style=\"color:rgb(200,150, 80)\">Feedback:</span> Brilliant  job! Neat implementation of feature scaling.\n",
    "```\n",
    "\n",
    "\n",
    "######## TODO: Scale the data using the natural logarithm\n",
    "log_data = np.log(data)\n",
    "\n",
    "######## TODO: Scale the sample data using the natural logarithm\n",
    "log_samples = np.log(samples)\n",
    "\n",
    "```\n"
   ]
  },
  {
   "cell_type": "markdown",
   "metadata": {},
   "source": [
    "###  Question 4\n",
    "### <span style=\"color:rgb(50,50,50)\">Outlier Detection</span> \n",
    "\n",
    "- #### <span style=\"color:rgb(50,50,50)\">Student identifies extreme outliers and discusses whether the outliers should be removed. Justification is made for any data points removed. \n",
    "</span> \n",
    "justification.\n",
    "</span> \n",
    "##### <span style=\"color:rgb(41,121,255)\">Meets Specification</span> \n",
    "<span style=\"color:rgb(200,150, 80)\">Feedback:</span> Great job identifying outliers. Straightforward justification for eliminating points identified as outliers\n",
    "##### <span style=\"color:rgb(41,121,255)\">Suggestions</span> \n",
    "-This [tutorial](http://www.theanalysisfactor.com/outliers-to-drop-or-not-to-drop/),[discussion](https://www.researchgate.net/post/When_is_it_justifiable_to_exclude_outlier_data_points_from_statistical_analyses) and [tips](http://www.dummies.com/programming/big-data/data-science/how-to-decide-whether-to-keep-outliers-in-predictive-analytics/) provide advice on managing outliers.\n",
    "-When to eliminate outliers is well documented [here](https://sakai.duke.edu/access/content/group/25e08a3d-9fc4-41b0-a7e9-815732c1c4ba/New%20folder/Course%20Files/BME354L/WhentoEliminateOutliers.pdf) and the power of outliers is well presented in this [publication](http://pareonline.net/getvn.asp?v=9&n=6)\n"
   ]
  },
  {
   "cell_type": "markdown",
   "metadata": {},
   "source": [
    "# <span style=\"color:rgb(50,150,50)\">Feature Transformation</span> "
   ]
  },
  {
   "cell_type": "markdown",
   "metadata": {},
   "source": [
    "###  Question 5\n",
    "### <span style=\"color:rgb(50,50,50)\">Principal Component Analysis</span> \n",
    "\n",
    "- #### <span style=\"color:rgb(50,50,50)\">The total variance explained for two and four dimensions of the data from PCA is accurately reported. The first four dimensions are interpreted as a representation of customer spending with justification.\n",
    "</span> \n",
    "##### <span style=\"color:rgb(250,50,50)\">Requires Changes</span> \n",
    "\n",
    "\n",
    "<span style=\"color:rgb(200,150, 80)\">Feedback:</span>\n",
    "Awesome! The variance in data for the first two principal components have been computed correctly. Accurate computation of the first four principal components. Great observation of the visual trends for the first four components. Consistent relation of observations of the graph and customer spending habits.\n",
    "\n",
    "##### <span style=\"color:rgb(250,50,50)\">Amendment Required</span> \n",
    "To meet specification, relate the reported observations from the graph with customer spending."
   ]
  },
  {
   "cell_type": "markdown",
   "metadata": {},
   "source": [
    "### <span style=\"color:rgb(50,50,50)\">Dimensionality Reduction</span> \n",
    "\n",
    "- #### <span style=\"color:rgb(50,50,50)\">PCA has been properly implemented and applied to both the scaled data and scaled sample data for the two-dimensional case in code.\n",
    "</span> \n",
    "\n",
    "##### <span style=\"color:rgb(41,121,255)\">Meets Specification</span> \n",
    "<span style=\"color:rgb(200,150, 80)\">Feedback:</span>\n",
    "Neat implementation!\n",
    "\n",
    "```\n",
    "\n",
    "\n",
    "# TODO: Apply PCA by fitting the good data with only two dimensions\n",
    "pca = PCA(n_components=2).fit(good_data)\n",
    "\n",
    "# TODO: Transform the good data using the PCA fit above\n",
    "reduced_data = pca.transform(good_data)\n",
    "\n",
    "# TODO: Transform log_samples using the PCA fit above\n",
    "pca_samples = pca.transform(log_samples)\n",
    "\n",
    "\n",
    "```"
   ]
  },
  {
   "cell_type": "markdown",
   "metadata": {},
   "source": [
    "# <span style=\"color:rgb(50,150,50)\">Clustering</span> "
   ]
  },
  {
   "cell_type": "markdown",
   "metadata": {},
   "source": [
    "### <span style=\"color:rgb(50,50,50)\">Question 6</span> \n",
    "\n",
    "### <span style=\"color:rgb(50,50,50)\">Clustering Algorithm</span> \n",
    "\n",
    "- #### <span style=\"color:rgb(50,50,50)\">The Gaussian Mixture Model and K-Means algorithms have been compared in detail. Student’s choice of algorithm is justified based on the characteristics of the algorithm and data.\n",
    "</span> \n",
    "\n",
    "##### <span style=\"color:rgb(41,121,255)\">Meets Specification</span> \n",
    "<span style=\"color:rgb(200,150, 80)\">Feedback:</span>\n",
    "Impressive job done in presenting the advantages of the Gaussian Mixture Model and the K-Means algorithm. Objective consideration applied in the choice of the Gaussian Mixture Model."
   ]
  },
  {
   "cell_type": "markdown",
   "metadata": {},
   "source": [
    "### <span style=\"color:rgb(50,50,50)\">Question 7</span> \n",
    "### <span style=\"color:rgb(50,50,50)\">Creating Clusters</span> \n",
    "\n",
    "- #### <span style=\"color:rgb(50,50,50)\">Several silhouette scores are accurately reported, and the optimal number of clusters is chosen based on the best reported score. The cluster visualization provided produces the optimal number of clusters based on the clustering algorithm chosen.\n",
    "</span> \n",
    "\n",
    "##### <span style=\"color:rgb(41,121,255)\">Meets Specification</span> \n",
    "<span style=\"color:rgb(200,150, 80)\">Feedback:</span> Uncluttered implementation!\n",
    "\n",
    "```\n",
    " # TODO: Apply your clustering algorithm of choice to the reduced data \n",
    "    clusterer = mixture.GMM(n_components=number, covariance_type='full').fit(reduced_data)\n",
    "\n",
    "    # TODO: Predict the cluster for each data point\n",
    "    preds = clusterer.predict(reduced_data)\n",
    "\n",
    "    # TODO: Find the cluster centers\n",
    "    centers = clusterer.means_\n",
    "\n",
    "    # TODO: Predict the cluster for each transformed sample data point\n",
    "    sample_preds = clusterer.predict(pca_samples)\n",
    "\n",
    "    # TODO: Calculate the mean silhouette coefficient for the number of clusters chosen\n",
    "    score = silhouette_score(reduced_data, preds)\n",
    "\n",
    "```\n"
   ]
  },
  {
   "cell_type": "markdown",
   "metadata": {},
   "source": [
    "### <span style=\"color:rgb(50,50,50)\">Question 8</span> \n",
    "### <span style=\"color:rgb(50,50,50)\">Data recovery</span> \n",
    "\n",
    "- #### <span style=\"color:rgb(50,50,50)\">The establishments represented by each customer segment are proposed based on the statistical description of the dataset. The inverse transformation and inverse scaling has been properly implemented and applied to the cluster centers in code.\n",
    "</span> \n",
    "##### <span style=\"color:rgb(41,121,255)\">Meets Specification</span> \n",
    "<span style=\"color:rgb(200,150, 80)\">Feedback:</span>Careful analysis of the expenditure pattern of each segment and logical proposal of the establishments represented.\n",
    "Correct implementation of inverse transformation and inverse scaling.  Sound application of implementation to cluster centers. \n",
    "\n",
    "```\n",
    "\n",
    "# TODO: Inverse transform the centers\n",
    "log_centers = pca.inverse_transform(centers)\n",
    "\n",
    "# TODO: Exponentiate the centers\n",
    "true_centers = np.exp(log_centers)\n",
    "\n",
    "```\n",
    "Brilliant!"
   ]
  },
  {
   "cell_type": "markdown",
   "metadata": {},
   "source": [
    "### <span style=\"color:rgb(50,50,50)\">Question 9</span> \n",
    "### <span style=\"color:rgb(50,50,50)\">Sample Predictions</span> \n",
    "\n",
    "- #### <span style=\"color:rgb(50,50,50)\">Sample points are correctly identified by customer segment, and the predicted cluster for each sample point is discussed.\n",
    "</span> \n",
    "##### <span style=\"color:rgb(41,121,255)\">Meets Specification</span> "
   ]
  },
  {
   "cell_type": "markdown",
   "metadata": {},
   "source": [
    "# <span style=\"color:rgb(50,150,50)\">Conclusion</span> "
   ]
  },
  {
   "cell_type": "markdown",
   "metadata": {},
   "source": [
    "### <span style=\"color:rgb(50,50,50)\">Question 10</span> \n",
    "### <span style=\"color:rgb(50,50,50)\">A/B Test</span> \n",
    "\n",
    "- #### <span style=\"color:rgb(50,50,50)\">Student correctly identifies how an A/B test can be performed on customers after a change in the wholesale distributor’s service.\n",
    "</span> \n",
    "\n",
    "##### <span style=\"color:rgb(250,50,50)\">Requires Changes</span> \n",
    "\n",
    "<span style=\"color:rgb(200,150, 80)\">Feedback:</span> Great intuition in the speculation of customer reactions.\n",
    "\n",
    "##### <span style=\"color:rgb(250,50,50)\">Amendment Required</span> \n",
    "To meet specification, use the application of the A/B test to justify the given conclusion."
   ]
  },
  {
   "cell_type": "markdown",
   "metadata": {},
   "source": [
    "### <span style=\"color:rgb(50,50,50)\">Question 11</span> \n",
    "### <span style=\"color:rgb(50,50,50)\">Predicting Additional Data</span> \n",
    "\n",
    "- #### <span style=\"color:rgb(50,50,50)\">Student discusses with justification how the clustering data can be used in a supervised learner for new predictions.\n",
    "</span> \n",
    "\n",
    "##### <span style=\"color:rgb(41,121,255)\">Meets Specification</span> "
   ]
  },
  {
   "cell_type": "markdown",
   "metadata": {},
   "source": [
    "### <span style=\"color:rgb(50,50,50)\">Question 12</span> \n",
    "### <span style=\"color:rgb(50,50,50)\">Comparing Customer Data</span> \n",
    "\n",
    "- #### <span style=\"color:rgb(50,50,50)\">Comparison is made between customer segments and customer ‘Channel’ data. Discussion of customer segments being identified by ‘Channel’ data is provided, including whether this representation is consistent with previous results.\n",
    "\n",
    "\n",
    "##### <span style=\"color:rgb(41,121,255)\">Meets Specification</span> \n",
    "<span style=\"color:rgb(200,150, 80)\">Feedback:</span> Excellent judgement!"
   ]
  },
  {
   "cell_type": "markdown",
   "metadata": {},
   "source": [
    " "
   ]
  },
  {
   "cell_type": "markdown",
   "metadata": {},
   "source": [
    "## <span style=\"color:rgb(41,121,255)\">Remark</span>"
   ]
  },
  {
   "cell_type": "markdown",
   "metadata": {},
   "source": [
    "Feedback: This has been an outstanding piece! veracious analysis, Keen discussions, outstanding intuition and excellent judgement has marked the accomplishment of this project. Reviewing this work has made a wonderful experience for me. Keep up the good work.\n",
    "##### <span style=\"color:rgb(250,50,50)\">Key Requirement</span> \n",
    "The HTML report of all projects MUST be submitted along with the project. Make it practice to do so.\n",
    "\n",
    "Rectifying the few areas as indicated will definitely make the next submission on this project heroic. Keep working hard."
   ]
  },
  {
   "cell_type": "code",
   "execution_count": null,
   "metadata": {
    "collapsed": true
   },
   "outputs": [],
   "source": []
  }
 ],
 "metadata": {
  "anaconda-cloud": {},
  "kernelspec": {
   "display_name": "Python [default]",
   "language": "python",
   "name": "python2"
  },
  "language_info": {
   "codemirror_mode": {
    "name": "ipython",
    "version": 2
   },
   "file_extension": ".py",
   "mimetype": "text/x-python",
   "name": "python",
   "nbconvert_exporter": "python",
   "pygments_lexer": "ipython2",
   "version": "2.7.12"
  }
 },
 "nbformat": 4,
 "nbformat_minor": 1
}
